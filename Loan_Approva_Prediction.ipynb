{
  "nbformat": 4,
  "nbformat_minor": 0,
  "metadata": {
    "colab": {
      "provenance": [],
      "authorship_tag": "ABX9TyP84hAvWedB+p+zB0Lkzlgl",
      "include_colab_link": true
    },
    "kernelspec": {
      "name": "python3",
      "display_name": "Python 3"
    },
    "language_info": {
      "name": "python"
    }
  },
  "cells": [
    {
      "cell_type": "markdown",
      "metadata": {
        "id": "view-in-github",
        "colab_type": "text"
      },
      "source": [
        "<a href=\"https://colab.research.google.com/github/tejatanush/Loan-Approval-Prediction/blob/main/Loan_Approva_Prediction.ipynb\" target=\"_parent\"><img src=\"https://colab.research.google.com/assets/colab-badge.svg\" alt=\"Open In Colab\"/></a>"
      ]
    },
    {
      "cell_type": "markdown",
      "source": [
        "# Model Description\n",
        "This model is capable of predicting if a person with certain features like education,Gender,Martial status,Income,Property Area,Credi History...etc can get loan or not.This helps customers to know if they get loan or not according to their features. Banks also benificial that they make customers  easier to know their loan status."
      ],
      "metadata": {
        "id": "io3-Sq8RdfW8"
      }
    },
    {
      "cell_type": "markdown",
      "source": [
        "#Steps to build a model:\n",
        "1. Import required libraries\n",
        "2. Import dataset\n",
        "3. Data Preprocessing\n",
        "*  Find and fill missing values\n",
        "* Encoding data\n",
        "* Splitting into training and testing set\n",
        "* Feature Scaling\n",
        "4. Selection of model\n",
        "5. Build a model\n",
        "6. Evaluate model\n",
        "7. Predict Results\n",
        "8. making confusion matrix"
      ],
      "metadata": {
        "id": "MVGvFRzHevdL"
      }
    },
    {
      "cell_type": "markdown",
      "source": [
        "# 1. Import libraries"
      ],
      "metadata": {
        "id": "nnbCr3eQfTpX"
      }
    },
    {
      "cell_type": "code",
      "source": [
        "import pandas as pd\n",
        "import matplotlib.pyplot as plt\n",
        "import numpy as np\n",
        "import tensorflow as tf"
      ],
      "metadata": {
        "id": "mWcBJgKIfQ-E"
      },
      "execution_count": 267,
      "outputs": []
    },
    {
      "cell_type": "markdown",
      "source": [
        "# 2. Import dataset\n",
        "This dataset has many independent features to predict wheather a person with respective features will able to get a loan or not.\n",
        "# Reference:\n",
        "https://github.com/prasertcbs/basic-dataset/blob/master/Loan-Approval-Prediction.csv  \n",
        "Lets split our data into two parts x (dependent variables) and y (independent variable)."
      ],
      "metadata": {
        "id": "8s4HBH3XnIxB"
      }
    },
    {
      "cell_type": "code",
      "source": [
        "dataset=pd.read_csv(\"Loan-Approval-Prediction.csv\")\n",
        "x=dataset.iloc[:,1:-1].values\n",
        "y=dataset.iloc[:,-1].values\n",
        "dataset.head()"
      ],
      "metadata": {
        "colab": {
          "base_uri": "https://localhost:8080/",
          "height": 206
        },
        "id": "SDnCCYkIo_03",
        "outputId": "a42bdf0b-8b3a-4a46-b96c-16fe41db8c7a"
      },
      "execution_count": 268,
      "outputs": [
        {
          "output_type": "execute_result",
          "data": {
            "text/plain": [
              "    Loan_ID Gender Married Dependents     Education Self_Employed  \\\n",
              "0  LP001002   Male      No          0      Graduate            No   \n",
              "1  LP001003   Male     Yes          1      Graduate            No   \n",
              "2  LP001005   Male     Yes          0      Graduate           Yes   \n",
              "3  LP001006   Male     Yes          0  Not Graduate            No   \n",
              "4  LP001008   Male      No          0      Graduate            No   \n",
              "\n",
              "   ApplicantIncome  CoapplicantIncome  LoanAmount  Loan_Amount_Term  \\\n",
              "0             5849                0.0         NaN             360.0   \n",
              "1             4583             1508.0       128.0             360.0   \n",
              "2             3000                0.0        66.0             360.0   \n",
              "3             2583             2358.0       120.0             360.0   \n",
              "4             6000                0.0       141.0             360.0   \n",
              "\n",
              "   Credit_History Property_Area Loan_Status  \n",
              "0             1.0         Urban           Y  \n",
              "1             1.0         Rural           N  \n",
              "2             1.0         Urban           Y  \n",
              "3             1.0         Urban           Y  \n",
              "4             1.0         Urban           Y  "
            ],
            "text/html": [
              "\n",
              "  <div id=\"df-34249d3a-788d-4770-aea0-da86933a69cf\" class=\"colab-df-container\">\n",
              "    <div>\n",
              "<style scoped>\n",
              "    .dataframe tbody tr th:only-of-type {\n",
              "        vertical-align: middle;\n",
              "    }\n",
              "\n",
              "    .dataframe tbody tr th {\n",
              "        vertical-align: top;\n",
              "    }\n",
              "\n",
              "    .dataframe thead th {\n",
              "        text-align: right;\n",
              "    }\n",
              "</style>\n",
              "<table border=\"1\" class=\"dataframe\">\n",
              "  <thead>\n",
              "    <tr style=\"text-align: right;\">\n",
              "      <th></th>\n",
              "      <th>Loan_ID</th>\n",
              "      <th>Gender</th>\n",
              "      <th>Married</th>\n",
              "      <th>Dependents</th>\n",
              "      <th>Education</th>\n",
              "      <th>Self_Employed</th>\n",
              "      <th>ApplicantIncome</th>\n",
              "      <th>CoapplicantIncome</th>\n",
              "      <th>LoanAmount</th>\n",
              "      <th>Loan_Amount_Term</th>\n",
              "      <th>Credit_History</th>\n",
              "      <th>Property_Area</th>\n",
              "      <th>Loan_Status</th>\n",
              "    </tr>\n",
              "  </thead>\n",
              "  <tbody>\n",
              "    <tr>\n",
              "      <th>0</th>\n",
              "      <td>LP001002</td>\n",
              "      <td>Male</td>\n",
              "      <td>No</td>\n",
              "      <td>0</td>\n",
              "      <td>Graduate</td>\n",
              "      <td>No</td>\n",
              "      <td>5849</td>\n",
              "      <td>0.0</td>\n",
              "      <td>NaN</td>\n",
              "      <td>360.0</td>\n",
              "      <td>1.0</td>\n",
              "      <td>Urban</td>\n",
              "      <td>Y</td>\n",
              "    </tr>\n",
              "    <tr>\n",
              "      <th>1</th>\n",
              "      <td>LP001003</td>\n",
              "      <td>Male</td>\n",
              "      <td>Yes</td>\n",
              "      <td>1</td>\n",
              "      <td>Graduate</td>\n",
              "      <td>No</td>\n",
              "      <td>4583</td>\n",
              "      <td>1508.0</td>\n",
              "      <td>128.0</td>\n",
              "      <td>360.0</td>\n",
              "      <td>1.0</td>\n",
              "      <td>Rural</td>\n",
              "      <td>N</td>\n",
              "    </tr>\n",
              "    <tr>\n",
              "      <th>2</th>\n",
              "      <td>LP001005</td>\n",
              "      <td>Male</td>\n",
              "      <td>Yes</td>\n",
              "      <td>0</td>\n",
              "      <td>Graduate</td>\n",
              "      <td>Yes</td>\n",
              "      <td>3000</td>\n",
              "      <td>0.0</td>\n",
              "      <td>66.0</td>\n",
              "      <td>360.0</td>\n",
              "      <td>1.0</td>\n",
              "      <td>Urban</td>\n",
              "      <td>Y</td>\n",
              "    </tr>\n",
              "    <tr>\n",
              "      <th>3</th>\n",
              "      <td>LP001006</td>\n",
              "      <td>Male</td>\n",
              "      <td>Yes</td>\n",
              "      <td>0</td>\n",
              "      <td>Not Graduate</td>\n",
              "      <td>No</td>\n",
              "      <td>2583</td>\n",
              "      <td>2358.0</td>\n",
              "      <td>120.0</td>\n",
              "      <td>360.0</td>\n",
              "      <td>1.0</td>\n",
              "      <td>Urban</td>\n",
              "      <td>Y</td>\n",
              "    </tr>\n",
              "    <tr>\n",
              "      <th>4</th>\n",
              "      <td>LP001008</td>\n",
              "      <td>Male</td>\n",
              "      <td>No</td>\n",
              "      <td>0</td>\n",
              "      <td>Graduate</td>\n",
              "      <td>No</td>\n",
              "      <td>6000</td>\n",
              "      <td>0.0</td>\n",
              "      <td>141.0</td>\n",
              "      <td>360.0</td>\n",
              "      <td>1.0</td>\n",
              "      <td>Urban</td>\n",
              "      <td>Y</td>\n",
              "    </tr>\n",
              "  </tbody>\n",
              "</table>\n",
              "</div>\n",
              "    <div class=\"colab-df-buttons\">\n",
              "\n",
              "  <div class=\"colab-df-container\">\n",
              "    <button class=\"colab-df-convert\" onclick=\"convertToInteractive('df-34249d3a-788d-4770-aea0-da86933a69cf')\"\n",
              "            title=\"Convert this dataframe to an interactive table.\"\n",
              "            style=\"display:none;\">\n",
              "\n",
              "  <svg xmlns=\"http://www.w3.org/2000/svg\" height=\"24px\" viewBox=\"0 -960 960 960\">\n",
              "    <path d=\"M120-120v-720h720v720H120Zm60-500h600v-160H180v160Zm220 220h160v-160H400v160Zm0 220h160v-160H400v160ZM180-400h160v-160H180v160Zm440 0h160v-160H620v160ZM180-180h160v-160H180v160Zm440 0h160v-160H620v160Z\"/>\n",
              "  </svg>\n",
              "    </button>\n",
              "\n",
              "  <style>\n",
              "    .colab-df-container {\n",
              "      display:flex;\n",
              "      gap: 12px;\n",
              "    }\n",
              "\n",
              "    .colab-df-convert {\n",
              "      background-color: #E8F0FE;\n",
              "      border: none;\n",
              "      border-radius: 50%;\n",
              "      cursor: pointer;\n",
              "      display: none;\n",
              "      fill: #1967D2;\n",
              "      height: 32px;\n",
              "      padding: 0 0 0 0;\n",
              "      width: 32px;\n",
              "    }\n",
              "\n",
              "    .colab-df-convert:hover {\n",
              "      background-color: #E2EBFA;\n",
              "      box-shadow: 0px 1px 2px rgba(60, 64, 67, 0.3), 0px 1px 3px 1px rgba(60, 64, 67, 0.15);\n",
              "      fill: #174EA6;\n",
              "    }\n",
              "\n",
              "    .colab-df-buttons div {\n",
              "      margin-bottom: 4px;\n",
              "    }\n",
              "\n",
              "    [theme=dark] .colab-df-convert {\n",
              "      background-color: #3B4455;\n",
              "      fill: #D2E3FC;\n",
              "    }\n",
              "\n",
              "    [theme=dark] .colab-df-convert:hover {\n",
              "      background-color: #434B5C;\n",
              "      box-shadow: 0px 1px 3px 1px rgba(0, 0, 0, 0.15);\n",
              "      filter: drop-shadow(0px 1px 2px rgba(0, 0, 0, 0.3));\n",
              "      fill: #FFFFFF;\n",
              "    }\n",
              "  </style>\n",
              "\n",
              "    <script>\n",
              "      const buttonEl =\n",
              "        document.querySelector('#df-34249d3a-788d-4770-aea0-da86933a69cf button.colab-df-convert');\n",
              "      buttonEl.style.display =\n",
              "        google.colab.kernel.accessAllowed ? 'block' : 'none';\n",
              "\n",
              "      async function convertToInteractive(key) {\n",
              "        const element = document.querySelector('#df-34249d3a-788d-4770-aea0-da86933a69cf');\n",
              "        const dataTable =\n",
              "          await google.colab.kernel.invokeFunction('convertToInteractive',\n",
              "                                                    [key], {});\n",
              "        if (!dataTable) return;\n",
              "\n",
              "        const docLinkHtml = 'Like what you see? Visit the ' +\n",
              "          '<a target=\"_blank\" href=https://colab.research.google.com/notebooks/data_table.ipynb>data table notebook</a>'\n",
              "          + ' to learn more about interactive tables.';\n",
              "        element.innerHTML = '';\n",
              "        dataTable['output_type'] = 'display_data';\n",
              "        await google.colab.output.renderOutput(dataTable, element);\n",
              "        const docLink = document.createElement('div');\n",
              "        docLink.innerHTML = docLinkHtml;\n",
              "        element.appendChild(docLink);\n",
              "      }\n",
              "    </script>\n",
              "  </div>\n",
              "\n",
              "\n",
              "<div id=\"df-b9eaedfe-4bda-47ce-a2f5-e9f9fc512c59\">\n",
              "  <button class=\"colab-df-quickchart\" onclick=\"quickchart('df-b9eaedfe-4bda-47ce-a2f5-e9f9fc512c59')\"\n",
              "            title=\"Suggest charts\"\n",
              "            style=\"display:none;\">\n",
              "\n",
              "<svg xmlns=\"http://www.w3.org/2000/svg\" height=\"24px\"viewBox=\"0 0 24 24\"\n",
              "     width=\"24px\">\n",
              "    <g>\n",
              "        <path d=\"M19 3H5c-1.1 0-2 .9-2 2v14c0 1.1.9 2 2 2h14c1.1 0 2-.9 2-2V5c0-1.1-.9-2-2-2zM9 17H7v-7h2v7zm4 0h-2V7h2v10zm4 0h-2v-4h2v4z\"/>\n",
              "    </g>\n",
              "</svg>\n",
              "  </button>\n",
              "\n",
              "<style>\n",
              "  .colab-df-quickchart {\n",
              "      --bg-color: #E8F0FE;\n",
              "      --fill-color: #1967D2;\n",
              "      --hover-bg-color: #E2EBFA;\n",
              "      --hover-fill-color: #174EA6;\n",
              "      --disabled-fill-color: #AAA;\n",
              "      --disabled-bg-color: #DDD;\n",
              "  }\n",
              "\n",
              "  [theme=dark] .colab-df-quickchart {\n",
              "      --bg-color: #3B4455;\n",
              "      --fill-color: #D2E3FC;\n",
              "      --hover-bg-color: #434B5C;\n",
              "      --hover-fill-color: #FFFFFF;\n",
              "      --disabled-bg-color: #3B4455;\n",
              "      --disabled-fill-color: #666;\n",
              "  }\n",
              "\n",
              "  .colab-df-quickchart {\n",
              "    background-color: var(--bg-color);\n",
              "    border: none;\n",
              "    border-radius: 50%;\n",
              "    cursor: pointer;\n",
              "    display: none;\n",
              "    fill: var(--fill-color);\n",
              "    height: 32px;\n",
              "    padding: 0;\n",
              "    width: 32px;\n",
              "  }\n",
              "\n",
              "  .colab-df-quickchart:hover {\n",
              "    background-color: var(--hover-bg-color);\n",
              "    box-shadow: 0 1px 2px rgba(60, 64, 67, 0.3), 0 1px 3px 1px rgba(60, 64, 67, 0.15);\n",
              "    fill: var(--button-hover-fill-color);\n",
              "  }\n",
              "\n",
              "  .colab-df-quickchart-complete:disabled,\n",
              "  .colab-df-quickchart-complete:disabled:hover {\n",
              "    background-color: var(--disabled-bg-color);\n",
              "    fill: var(--disabled-fill-color);\n",
              "    box-shadow: none;\n",
              "  }\n",
              "\n",
              "  .colab-df-spinner {\n",
              "    border: 2px solid var(--fill-color);\n",
              "    border-color: transparent;\n",
              "    border-bottom-color: var(--fill-color);\n",
              "    animation:\n",
              "      spin 1s steps(1) infinite;\n",
              "  }\n",
              "\n",
              "  @keyframes spin {\n",
              "    0% {\n",
              "      border-color: transparent;\n",
              "      border-bottom-color: var(--fill-color);\n",
              "      border-left-color: var(--fill-color);\n",
              "    }\n",
              "    20% {\n",
              "      border-color: transparent;\n",
              "      border-left-color: var(--fill-color);\n",
              "      border-top-color: var(--fill-color);\n",
              "    }\n",
              "    30% {\n",
              "      border-color: transparent;\n",
              "      border-left-color: var(--fill-color);\n",
              "      border-top-color: var(--fill-color);\n",
              "      border-right-color: var(--fill-color);\n",
              "    }\n",
              "    40% {\n",
              "      border-color: transparent;\n",
              "      border-right-color: var(--fill-color);\n",
              "      border-top-color: var(--fill-color);\n",
              "    }\n",
              "    60% {\n",
              "      border-color: transparent;\n",
              "      border-right-color: var(--fill-color);\n",
              "    }\n",
              "    80% {\n",
              "      border-color: transparent;\n",
              "      border-right-color: var(--fill-color);\n",
              "      border-bottom-color: var(--fill-color);\n",
              "    }\n",
              "    90% {\n",
              "      border-color: transparent;\n",
              "      border-bottom-color: var(--fill-color);\n",
              "    }\n",
              "  }\n",
              "</style>\n",
              "\n",
              "  <script>\n",
              "    async function quickchart(key) {\n",
              "      const quickchartButtonEl =\n",
              "        document.querySelector('#' + key + ' button');\n",
              "      quickchartButtonEl.disabled = true;  // To prevent multiple clicks.\n",
              "      quickchartButtonEl.classList.add('colab-df-spinner');\n",
              "      try {\n",
              "        const charts = await google.colab.kernel.invokeFunction(\n",
              "            'suggestCharts', [key], {});\n",
              "      } catch (error) {\n",
              "        console.error('Error during call to suggestCharts:', error);\n",
              "      }\n",
              "      quickchartButtonEl.classList.remove('colab-df-spinner');\n",
              "      quickchartButtonEl.classList.add('colab-df-quickchart-complete');\n",
              "    }\n",
              "    (() => {\n",
              "      let quickchartButtonEl =\n",
              "        document.querySelector('#df-b9eaedfe-4bda-47ce-a2f5-e9f9fc512c59 button');\n",
              "      quickchartButtonEl.style.display =\n",
              "        google.colab.kernel.accessAllowed ? 'block' : 'none';\n",
              "    })();\n",
              "  </script>\n",
              "</div>\n",
              "\n",
              "    </div>\n",
              "  </div>\n"
            ],
            "application/vnd.google.colaboratory.intrinsic+json": {
              "type": "dataframe",
              "variable_name": "dataset",
              "summary": "{\n  \"name\": \"dataset\",\n  \"rows\": 614,\n  \"fields\": [\n    {\n      \"column\": \"Loan_ID\",\n      \"properties\": {\n        \"dtype\": \"string\",\n        \"num_unique_values\": 614,\n        \"samples\": [\n          \"LP002139\",\n          \"LP002223\",\n          \"LP001570\"\n        ],\n        \"semantic_type\": \"\",\n        \"description\": \"\"\n      }\n    },\n    {\n      \"column\": \"Gender\",\n      \"properties\": {\n        \"dtype\": \"category\",\n        \"num_unique_values\": 2,\n        \"samples\": [\n          \"Female\",\n          \"Male\"\n        ],\n        \"semantic_type\": \"\",\n        \"description\": \"\"\n      }\n    },\n    {\n      \"column\": \"Married\",\n      \"properties\": {\n        \"dtype\": \"category\",\n        \"num_unique_values\": 2,\n        \"samples\": [\n          \"Yes\",\n          \"No\"\n        ],\n        \"semantic_type\": \"\",\n        \"description\": \"\"\n      }\n    },\n    {\n      \"column\": \"Dependents\",\n      \"properties\": {\n        \"dtype\": \"category\",\n        \"num_unique_values\": 4,\n        \"samples\": [\n          \"1\",\n          \"3+\"\n        ],\n        \"semantic_type\": \"\",\n        \"description\": \"\"\n      }\n    },\n    {\n      \"column\": \"Education\",\n      \"properties\": {\n        \"dtype\": \"category\",\n        \"num_unique_values\": 2,\n        \"samples\": [\n          \"Not Graduate\",\n          \"Graduate\"\n        ],\n        \"semantic_type\": \"\",\n        \"description\": \"\"\n      }\n    },\n    {\n      \"column\": \"Self_Employed\",\n      \"properties\": {\n        \"dtype\": \"category\",\n        \"num_unique_values\": 2,\n        \"samples\": [\n          \"Yes\",\n          \"No\"\n        ],\n        \"semantic_type\": \"\",\n        \"description\": \"\"\n      }\n    },\n    {\n      \"column\": \"ApplicantIncome\",\n      \"properties\": {\n        \"dtype\": \"number\",\n        \"std\": 6109,\n        \"min\": 150,\n        \"max\": 81000,\n        \"num_unique_values\": 505,\n        \"samples\": [\n          8333,\n          4342\n        ],\n        \"semantic_type\": \"\",\n        \"description\": \"\"\n      }\n    },\n    {\n      \"column\": \"CoapplicantIncome\",\n      \"properties\": {\n        \"dtype\": \"number\",\n        \"std\": 2926.2483692241885,\n        \"min\": 0.0,\n        \"max\": 41667.0,\n        \"num_unique_values\": 287,\n        \"samples\": [\n          1840.0,\n          2042.0\n        ],\n        \"semantic_type\": \"\",\n        \"description\": \"\"\n      }\n    },\n    {\n      \"column\": \"LoanAmount\",\n      \"properties\": {\n        \"dtype\": \"number\",\n        \"std\": 85.58732523570545,\n        \"min\": 9.0,\n        \"max\": 700.0,\n        \"num_unique_values\": 203,\n        \"samples\": [\n          100.0,\n          70.0\n        ],\n        \"semantic_type\": \"\",\n        \"description\": \"\"\n      }\n    },\n    {\n      \"column\": \"Loan_Amount_Term\",\n      \"properties\": {\n        \"dtype\": \"number\",\n        \"std\": 65.12040985461256,\n        \"min\": 12.0,\n        \"max\": 480.0,\n        \"num_unique_values\": 10,\n        \"samples\": [\n          84.0,\n          120.0\n        ],\n        \"semantic_type\": \"\",\n        \"description\": \"\"\n      }\n    },\n    {\n      \"column\": \"Credit_History\",\n      \"properties\": {\n        \"dtype\": \"number\",\n        \"std\": 0.3648783192364048,\n        \"min\": 0.0,\n        \"max\": 1.0,\n        \"num_unique_values\": 2,\n        \"samples\": [\n          0.0,\n          1.0\n        ],\n        \"semantic_type\": \"\",\n        \"description\": \"\"\n      }\n    },\n    {\n      \"column\": \"Property_Area\",\n      \"properties\": {\n        \"dtype\": \"category\",\n        \"num_unique_values\": 3,\n        \"samples\": [\n          \"Urban\",\n          \"Rural\"\n        ],\n        \"semantic_type\": \"\",\n        \"description\": \"\"\n      }\n    },\n    {\n      \"column\": \"Loan_Status\",\n      \"properties\": {\n        \"dtype\": \"category\",\n        \"num_unique_values\": 2,\n        \"samples\": [\n          \"N\",\n          \"Y\"\n        ],\n        \"semantic_type\": \"\",\n        \"description\": \"\"\n      }\n    }\n  ]\n}"
            }
          },
          "metadata": {},
          "execution_count": 268
        }
      ]
    },
    {
      "cell_type": "markdown",
      "source": [
        "# 3. Data Preprocessing\n"
      ],
      "metadata": {
        "id": "V_CWnLLLplzA"
      }
    },
    {
      "cell_type": "markdown",
      "source": [
        "#Find and filling missing values"
      ],
      "metadata": {
        "id": "_RjQbRAmpyXW"
      }
    },
    {
      "cell_type": "code",
      "source": [
        "missing_values = dataset.isnull().sum()\n",
        "print(missing_values)"
      ],
      "metadata": {
        "colab": {
          "base_uri": "https://localhost:8080/"
        },
        "id": "J9z5FGnRp2Of",
        "outputId": "88c327ef-b871-4d3f-d18d-330dbb78338f"
      },
      "execution_count": 269,
      "outputs": [
        {
          "output_type": "stream",
          "name": "stdout",
          "text": [
            "Loan_ID               0\n",
            "Gender               13\n",
            "Married               3\n",
            "Dependents           15\n",
            "Education             0\n",
            "Self_Employed        32\n",
            "ApplicantIncome       0\n",
            "CoapplicantIncome     0\n",
            "LoanAmount           22\n",
            "Loan_Amount_Term     14\n",
            "Credit_History       50\n",
            "Property_Area         0\n",
            "Loan_Status           0\n",
            "dtype: int64\n"
          ]
        }
      ]
    },
    {
      "cell_type": "markdown",
      "source": [
        "Hence we have some missing values let's fill them with some mathematical operations like mean or else most occured value. The way of filling values depends on feature in dataset."
      ],
      "metadata": {
        "id": "tGomB2i8p9pY"
      }
    },
    {
      "cell_type": "code",
      "source": [
        "from sklearn.impute import SimpleImputer\n",
        "\n",
        "imputer_1 = SimpleImputer(missing_values=np.nan, strategy='most_frequent')\n",
        "imputer_2 = SimpleImputer(missing_values=np.nan, strategy='mean')\n",
        "x[:, 0:3] = imputer_1.fit_transform(x[:, 0:3])\n",
        "x[:, 4:5] = imputer_1.fit_transform(x[:, 4:5])\n",
        "x[:, 8:10] = imputer_1.fit_transform(x[:, 8:10])\n",
        "x[:, 7:8] = imputer_2.fit_transform(x[:, 7:8])\n",
        "print(x[23])"
      ],
      "metadata": {
        "id": "OPxsXuvFqT69",
        "colab": {
          "base_uri": "https://localhost:8080/"
        },
        "outputId": "be857116-add8-461a-b1ef-7e3360138ac1"
      },
      "execution_count": 270,
      "outputs": [
        {
          "output_type": "stream",
          "name": "stdout",
          "text": [
            "['Male' 'Yes' '2' 'Not Graduate' 'No' 3365 1917.0 112.0 360.0 0.0 'Rural']\n"
          ]
        }
      ]
    },
    {
      "cell_type": "markdown",
      "source": [
        "Hence some of the categorical features cannot be determined using mathematical operations like mean,mode,median..etc so we fill them with most occured value in respective feature."
      ],
      "metadata": {
        "id": "u8FrKZ1PqjhL"
      }
    },
    {
      "cell_type": "markdown",
      "source": [
        "# Encoding data\n",
        "From our data we have categorical features and some label features. So that we should encode categorcal and label encoding in 2 steps."
      ],
      "metadata": {
        "id": "95R5dD03q2fI"
      }
    },
    {
      "cell_type": "code",
      "source": [
        "from sklearn.compose import ColumnTransformer\n",
        "from sklearn.preprocessing import OneHotEncoder\n",
        "from sklearn.preprocessing import LabelEncoder\n",
        "le=LabelEncoder()\n",
        "columns_to_encode = [0,1,3,4,9]\n",
        "for column in columns_to_encode:\n",
        "    x[:, column] = le.fit_transform(x[:, column])\n",
        "ct=ColumnTransformer(transformers=[('encoder1',OneHotEncoder(),[10]),('encoder2',OneHotEncoder(),[8])],remainder='passthrough')\n",
        "x=np.array(ct.fit_transform(x))\n",
        "y=le.fit_transform(y)\n",
        "print(x[23])\n",
        "print(x[24])\n",
        "print(x[25])\n",
        "print(x[28])\n",
        "print(x[61])"
      ],
      "metadata": {
        "colab": {
          "base_uri": "https://localhost:8080/"
        },
        "id": "uflKs6Raq7aQ",
        "outputId": "5eb0174e-0641-4144-d3f7-1072fa3cb855"
      },
      "execution_count": 271,
      "outputs": [
        {
          "output_type": "stream",
          "name": "stdout",
          "text": [
            "[1.0 0.0 0.0 0.0 0.0 0.0 0.0 0.0 0.0 0.0 0.0 1.0 0.0 1 1 '2' 1 0 3365\n",
            " 1917.0 112.0 0]\n",
            "[0.0 1.0 0.0 0.0 0.0 0.0 0.0 0.0 0.0 0.0 0.0 1.0 0.0 1 1 '1' 0 0 3717\n",
            " 2925.0 151.0 1]\n",
            "[0.0 1.0 0.0 0.0 0.0 0.0 0.0 0.0 0.0 0.0 0.0 1.0 0.0 1 1 '0' 0 1 9560 0.0\n",
            " 191.0 1]\n",
            "[0.0 0.0 1.0 0.0 0.0 0.0 0.0 0.0 0.0 0.0 0.0 1.0 0.0 1 0 '0' 1 0 1442 0.0\n",
            " 35.0 1]\n",
            "[0.0 0.0 1.0 0.0 0.0 0.0 0.0 0.0 0.0 0.0 0.0 1.0 0.0 1 1 '3+' 0 0 3029 0.0\n",
            " 99.0 1]\n"
          ]
        }
      ]
    },
    {
      "cell_type": "markdown",
      "source": [
        "We can observe the pattern of a row that how it changes and there is string at index 5 which is no.of dependents.So let's convert this string into numeric form. There is only one non-numeric string 3+ in dataset.Somlet's make 3+ to 3 which does not make any large change to dataset."
      ],
      "metadata": {
        "id": "ZoH0jYEBhKxJ"
      }
    },
    {
      "cell_type": "code",
      "source": [
        "for i in range(0,len(y)):\n",
        "  if x[i,15]=='3+':\n",
        "    x[i,15]=3\n",
        "  elif x[i,15]=='0':\n",
        "    x[i,15]=0\n",
        "  elif x[i,15]=='1':\n",
        "    x[i,15]=1\n",
        "  elif x[i,15]=='2':\n",
        "    x[i,15]=2\n",
        "print(len(x[61]))\n",
        "x=x.astype('float32') #make as tensors\n",
        "y=y.astype('float32')"
      ],
      "metadata": {
        "colab": {
          "base_uri": "https://localhost:8080/"
        },
        "id": "kfhiABVGi2ZM",
        "outputId": "7e053f8a-9add-4a6e-8062-1aa67e893c05"
      },
      "execution_count": 272,
      "outputs": [
        {
          "output_type": "stream",
          "name": "stdout",
          "text": [
            "22\n"
          ]
        }
      ]
    },
    {
      "cell_type": "markdown",
      "source": [
        "You can see that string is converted to int"
      ],
      "metadata": {
        "id": "sfUo9Dk4jzq4"
      }
    },
    {
      "cell_type": "markdown",
      "source": [
        "# Splitting into training set and test set\n",
        "Let's split data so that 80% of data will be training set and remaining 20% will be testing set."
      ],
      "metadata": {
        "id": "WVQ2sCYVrw4y"
      }
    },
    {
      "cell_type": "code",
      "source": [
        "from sklearn.model_selection import train_test_split\n",
        "x_train,x_test,y_train,y_test=train_test_split(x,y,test_size=0.2,random_state=0)\n",
        "#Let's check how data splitted\n",
        "#print(x_train)\n",
        "#print(y_train)\n",
        "print(len(x_train[:,18]))"
      ],
      "metadata": {
        "colab": {
          "base_uri": "https://localhost:8080/"
        },
        "id": "3Dp7dmLkkBsH",
        "outputId": "ab2bf239-2d7b-4a64-8df3-f65864b52144"
      },
      "execution_count": 273,
      "outputs": [
        {
          "output_type": "stream",
          "name": "stdout",
          "text": [
            "491\n"
          ]
        }
      ]
    },
    {
      "cell_type": "markdown",
      "source": [
        "We can see that data is not in certain order.... it mean the data is splitted in random."
      ],
      "metadata": {
        "id": "ShpOKoT8kKPx"
      }
    },
    {
      "cell_type": "markdown",
      "source": [
        "#Feature Scaling\n",
        "Let's Normalize ApplicantIncome,Co-ApplicantIncome,Loan Amount.Because these are having unique numerical values and by normalizing them model may understand better patterns between them."
      ],
      "metadata": {
        "id": "4lSCxgGNkMBL"
      }
    },
    {
      "cell_type": "code",
      "source": [
        "from sklearn.preprocessing import MinMaxScaler\n",
        "sc=MinMaxScaler()\n",
        "x_train[:,19]=sc.fit_transform((x_train[:,19]).reshape(-1,1)).flatten()\n",
        "x_train[:,20]=sc.fit_transform((x_train[:,20]).reshape(-1,1)).flatten()\n",
        "x_train[:,18]=sc.fit_transform((x_train[:,18]).reshape(-1,1)).flatten()\n",
        "x_test[:,19]=sc.transform((x_test[:,19]).reshape(-1,1)).flatten()\n",
        "x_test[:,20]=sc.transform((x_test[:,20]).reshape(-1,1)).flatten()\n",
        "x_test[:,18]=sc.transform((x_test[:,18]).reshape(-1,1)).flatten()\n",
        "print(x_test[2])"
      ],
      "metadata": {
        "colab": {
          "base_uri": "https://localhost:8080/"
        },
        "id": "rQXfjA84kPm6",
        "outputId": "15a03d97-a289-4449-8cfe-cba665ed89b4"
      },
      "execution_count": 274,
      "outputs": [
        {
          "output_type": "stream",
          "name": "stdout",
          "text": [
            "[0.         0.         1.         0.         0.         0.\n",
            " 0.         0.         0.         0.         0.         1.\n",
            " 0.         1.         1.         0.         0.         0.\n",
            " 0.07400125 0.0464564  0.00215213 1.        ]\n"
          ]
        }
      ]
    },
    {
      "cell_type": "markdown",
      "source": [
        "So, the ApplicantIncome,Co-ApplicantIncome,Loan Amount were normalized into values between 0 and 1."
      ],
      "metadata": {
        "id": "pgsYi0skADsc"
      }
    },
    {
      "cell_type": "markdown",
      "source": [
        "# 4. Selection of model\n",
        "Hence the prediction of loan status will only be two chances (Y/N). So that we can use classification model for this type of problem."
      ],
      "metadata": {
        "id": "tMyg0puaArN1"
      }
    },
    {
      "cell_type": "markdown",
      "source": [
        "# 5. Build a model\n",
        "**Create model:** In classification problems use activation function as Sigmoid for output layer and no activation function is used for input and hidden layers for better results."
      ],
      "metadata": {
        "id": "jzuPjSd_Bjkw"
      }
    },
    {
      "cell_type": "code",
      "source": [
        "tf.random.set_seed(42)\n",
        "model=tf.keras.Sequential([tf.keras.layers.Dense(100,input_shape=[22]),\n",
        "                           tf.keras.layers.Dense(10),\n",
        "                           tf.keras.layers.Dense(1,activation='sigmoid')])\n",
        "model.summary()"
      ],
      "metadata": {
        "colab": {
          "base_uri": "https://localhost:8080/"
        },
        "id": "YJq_6biKAasP",
        "outputId": "7fe7e300-b449-479f-d1ec-026cfd247aab"
      },
      "execution_count": 275,
      "outputs": [
        {
          "output_type": "stream",
          "name": "stdout",
          "text": [
            "Model: \"sequential_9\"\n",
            "_________________________________________________________________\n",
            " Layer (type)                Output Shape              Param #   \n",
            "=================================================================\n",
            " dense_23 (Dense)            (None, 100)               2300      \n",
            "                                                                 \n",
            " dense_24 (Dense)            (None, 10)                1010      \n",
            "                                                                 \n",
            " dense_25 (Dense)            (None, 1)                 11        \n",
            "                                                                 \n",
            "=================================================================\n",
            "Total params: 3321 (12.97 KB)\n",
            "Trainable params: 3321 (12.97 KB)\n",
            "Non-trainable params: 0 (0.00 Byte)\n",
            "_________________________________________________________________\n"
          ]
        }
      ]
    },
    {
      "cell_type": "markdown",
      "source": [
        "Here we can see summary of model that how model constructed and no.of hidden layers and parameters...etc."
      ],
      "metadata": {
        "id": "Jsi4BQUkC7JW"
      }
    },
    {
      "cell_type": "markdown",
      "source": [
        "**Compile Model:** For classification problems use optimizers as SGD , loss is binary crossentropy because our results are only one of two (Y/N), we can evaluate our model results using accuracy metrics"
      ],
      "metadata": {
        "id": "FYBIfF2EC-oo"
      }
    },
    {
      "cell_type": "code",
      "source": [
        "model.compile(loss=tf.keras.losses.BinaryCrossentropy(),\n",
        "              optimizer=tf.keras.optimizers.Adam(learning_rate=0.01),\n",
        "              metrics=['accuracy'])"
      ],
      "metadata": {
        "id": "Rfq7xkIgDEUu"
      },
      "execution_count": 276,
      "outputs": []
    },
    {
      "cell_type": "markdown",
      "source": [
        "Fit Model: Train model for 20 epochs or more and ensure to add validation data for better vizualisation so that trained model can evaluate test set simultaneously."
      ],
      "metadata": {
        "id": "BdlTnmxzDXeD"
      }
    },
    {
      "cell_type": "code",
      "source": [
        "model_history=model.fit(x_train,y_train,epochs=20,validation_data=[x_test,y_test])"
      ],
      "metadata": {
        "colab": {
          "base_uri": "https://localhost:8080/"
        },
        "id": "Zf9Y52FVDYJr",
        "outputId": "ea74cc94-cbee-4089-90e4-a039c792ff6a"
      },
      "execution_count": 277,
      "outputs": [
        {
          "output_type": "stream",
          "name": "stdout",
          "text": [
            "Epoch 1/20\n",
            "16/16 [==============================] - 1s 17ms/step - loss: 0.6486 - accuracy: 0.6578 - val_loss: 0.4877 - val_accuracy: 0.7724\n",
            "Epoch 2/20\n",
            "16/16 [==============================] - 0s 5ms/step - loss: 0.5347 - accuracy: 0.7658 - val_loss: 0.4648 - val_accuracy: 0.8130\n",
            "Epoch 3/20\n",
            "16/16 [==============================] - 0s 5ms/step - loss: 0.4910 - accuracy: 0.8045 - val_loss: 0.4423 - val_accuracy: 0.8293\n",
            "Epoch 4/20\n",
            "16/16 [==============================] - 0s 5ms/step - loss: 0.4719 - accuracy: 0.8024 - val_loss: 0.4625 - val_accuracy: 0.8293\n",
            "Epoch 5/20\n",
            "16/16 [==============================] - 0s 5ms/step - loss: 0.4833 - accuracy: 0.8086 - val_loss: 0.4425 - val_accuracy: 0.8293\n",
            "Epoch 6/20\n",
            "16/16 [==============================] - 0s 5ms/step - loss: 0.4773 - accuracy: 0.8086 - val_loss: 0.4522 - val_accuracy: 0.8211\n",
            "Epoch 7/20\n",
            "16/16 [==============================] - 0s 5ms/step - loss: 0.4740 - accuracy: 0.8106 - val_loss: 0.4564 - val_accuracy: 0.8455\n",
            "Epoch 8/20\n",
            "16/16 [==============================] - 0s 5ms/step - loss: 0.4781 - accuracy: 0.8106 - val_loss: 0.4579 - val_accuracy: 0.8293\n",
            "Epoch 9/20\n",
            "16/16 [==============================] - 0s 5ms/step - loss: 0.4697 - accuracy: 0.8126 - val_loss: 0.4533 - val_accuracy: 0.8455\n",
            "Epoch 10/20\n",
            "16/16 [==============================] - 0s 6ms/step - loss: 0.4724 - accuracy: 0.8106 - val_loss: 0.4477 - val_accuracy: 0.8211\n",
            "Epoch 11/20\n",
            "16/16 [==============================] - 0s 5ms/step - loss: 0.4624 - accuracy: 0.8106 - val_loss: 0.4443 - val_accuracy: 0.8211\n",
            "Epoch 12/20\n",
            "16/16 [==============================] - 0s 5ms/step - loss: 0.4852 - accuracy: 0.8045 - val_loss: 0.4643 - val_accuracy: 0.8293\n",
            "Epoch 13/20\n",
            "16/16 [==============================] - 0s 6ms/step - loss: 0.4718 - accuracy: 0.8147 - val_loss: 0.4643 - val_accuracy: 0.8293\n",
            "Epoch 14/20\n",
            "16/16 [==============================] - 0s 5ms/step - loss: 0.4615 - accuracy: 0.8106 - val_loss: 0.4565 - val_accuracy: 0.8211\n",
            "Epoch 15/20\n",
            "16/16 [==============================] - 0s 4ms/step - loss: 0.4636 - accuracy: 0.8086 - val_loss: 0.4528 - val_accuracy: 0.8293\n",
            "Epoch 16/20\n",
            "16/16 [==============================] - 0s 5ms/step - loss: 0.4779 - accuracy: 0.8024 - val_loss: 0.4547 - val_accuracy: 0.8211\n",
            "Epoch 17/20\n",
            "16/16 [==============================] - 0s 6ms/step - loss: 0.4636 - accuracy: 0.8147 - val_loss: 0.4470 - val_accuracy: 0.8211\n",
            "Epoch 18/20\n",
            "16/16 [==============================] - 0s 5ms/step - loss: 0.4683 - accuracy: 0.8045 - val_loss: 0.4514 - val_accuracy: 0.8211\n",
            "Epoch 19/20\n",
            "16/16 [==============================] - 0s 5ms/step - loss: 0.4670 - accuracy: 0.8106 - val_loss: 0.4529 - val_accuracy: 0.8211\n",
            "Epoch 20/20\n",
            "16/16 [==============================] - 0s 4ms/step - loss: 0.4633 - accuracy: 0.8106 - val_loss: 0.4536 - val_accuracy: 0.8374\n"
          ]
        }
      ]
    },
    {
      "cell_type": "markdown",
      "source": [
        "#6. Evaluate Model"
      ],
      "metadata": {
        "id": "ynJyZhCGISju"
      }
    },
    {
      "cell_type": "code",
      "source": [
        "model.evaluate(x_test,y_test)"
      ],
      "metadata": {
        "colab": {
          "base_uri": "https://localhost:8080/"
        },
        "id": "dYB4hhCVIYCE",
        "outputId": "1bb9ca6b-01ea-46ac-998a-91ae3ba40689"
      },
      "execution_count": 278,
      "outputs": [
        {
          "output_type": "stream",
          "name": "stdout",
          "text": [
            "4/4 [==============================] - 0s 4ms/step - loss: 0.4536 - accuracy: 0.8374\n"
          ]
        },
        {
          "output_type": "execute_result",
          "data": {
            "text/plain": [
              "[0.4535917043685913, 0.8373983502388]"
            ]
          },
          "metadata": {},
          "execution_count": 278
        }
      ]
    },
    {
      "cell_type": "code",
      "source": [
        "print(len(y_test))"
      ],
      "metadata": {
        "colab": {
          "base_uri": "https://localhost:8080/"
        },
        "id": "WZBQuPmiKFLy",
        "outputId": "231dd5a1-e932-442e-9834-6c121ffed880"
      },
      "execution_count": 280,
      "outputs": [
        {
          "output_type": "stream",
          "name": "stdout",
          "text": [
            "123\n"
          ]
        }
      ]
    },
    {
      "cell_type": "markdown",
      "source": [
        "#7. predict Results\n",
        "Let's Predict results of y_test and compare the original results of y_test."
      ],
      "metadata": {
        "id": "Dt0q3XMmIY5z"
      }
    },
    {
      "cell_type": "code",
      "source": [
        "y_pred=model.predict(x_test)\n",
        "y_pred=y_pred.reshape(-1,1)\n",
        "for i in range(0,len(y_test)):\n",
        "  if y_pred[i]>0.5:\n",
        "    y_pred[i]=1\n",
        "  else:\n",
        "    y_pred[i]=0\n",
        "y_test=y_test.reshape(-1,1)\n",
        "# print predicted and actual values\n",
        "print(np.concatenate((y_pred, y_test), axis=1))"
      ],
      "metadata": {
        "colab": {
          "base_uri": "https://localhost:8080/"
        },
        "id": "1QUFyhHEIe1Y",
        "outputId": "7148c2f4-8e94-4e10-928c-2efc9b47dc97"
      },
      "execution_count": 282,
      "outputs": [
        {
          "output_type": "stream",
          "name": "stdout",
          "text": [
            "4/4 [==============================] - 0s 3ms/step\n",
            "[[1. 1.]\n",
            " [1. 0.]\n",
            " [1. 1.]\n",
            " [1. 0.]\n",
            " [1. 1.]\n",
            " [0. 0.]\n",
            " [1. 1.]\n",
            " [1. 1.]\n",
            " [0. 0.]\n",
            " [1. 1.]\n",
            " [1. 1.]\n",
            " [1. 1.]\n",
            " [1. 1.]\n",
            " [1. 1.]\n",
            " [1. 1.]\n",
            " [1. 0.]\n",
            " [1. 0.]\n",
            " [1. 1.]\n",
            " [1. 1.]\n",
            " [0. 0.]\n",
            " [0. 0.]\n",
            " [1. 1.]\n",
            " [1. 1.]\n",
            " [1. 1.]\n",
            " [1. 1.]\n",
            " [1. 1.]\n",
            " [1. 1.]\n",
            " [1. 1.]\n",
            " [0. 0.]\n",
            " [0. 0.]\n",
            " [1. 1.]\n",
            " [1. 1.]\n",
            " [1. 1.]\n",
            " [1. 1.]\n",
            " [1. 1.]\n",
            " [0. 0.]\n",
            " [1. 1.]\n",
            " [1. 1.]\n",
            " [1. 1.]\n",
            " [1. 1.]\n",
            " [1. 1.]\n",
            " [0. 0.]\n",
            " [1. 1.]\n",
            " [1. 1.]\n",
            " [1. 1.]\n",
            " [1. 1.]\n",
            " [1. 1.]\n",
            " [1. 1.]\n",
            " [1. 0.]\n",
            " [1. 1.]\n",
            " [1. 1.]\n",
            " [1. 1.]\n",
            " [1. 1.]\n",
            " [1. 1.]\n",
            " [1. 1.]\n",
            " [1. 1.]\n",
            " [1. 1.]\n",
            " [1. 0.]\n",
            " [1. 1.]\n",
            " [1. 1.]\n",
            " [0. 1.]\n",
            " [1. 0.]\n",
            " [1. 1.]\n",
            " [0. 0.]\n",
            " [1. 1.]\n",
            " [1. 1.]\n",
            " [1. 1.]\n",
            " [1. 1.]\n",
            " [1. 1.]\n",
            " [1. 1.]\n",
            " [1. 0.]\n",
            " [1. 1.]\n",
            " [1. 1.]\n",
            " [1. 1.]\n",
            " [1. 1.]\n",
            " [1. 1.]\n",
            " [1. 0.]\n",
            " [1. 0.]\n",
            " [1. 1.]\n",
            " [0. 0.]\n",
            " [0. 1.]\n",
            " [1. 0.]\n",
            " [1. 0.]\n",
            " [1. 1.]\n",
            " [0. 0.]\n",
            " [1. 1.]\n",
            " [1. 1.]\n",
            " [1. 1.]\n",
            " [1. 1.]\n",
            " [1. 1.]\n",
            " [1. 1.]\n",
            " [1. 0.]\n",
            " [1. 0.]\n",
            " [0. 0.]\n",
            " [1. 1.]\n",
            " [0. 0.]\n",
            " [1. 1.]\n",
            " [1. 1.]\n",
            " [1. 1.]\n",
            " [1. 1.]\n",
            " [1. 1.]\n",
            " [1. 1.]\n",
            " [1. 1.]\n",
            " [1. 0.]\n",
            " [1. 1.]\n",
            " [1. 1.]\n",
            " [1. 1.]\n",
            " [1. 1.]\n",
            " [1. 1.]\n",
            " [1. 0.]\n",
            " [1. 1.]\n",
            " [1. 0.]\n",
            " [0. 0.]\n",
            " [1. 1.]\n",
            " [0. 0.]\n",
            " [0. 1.]\n",
            " [1. 1.]\n",
            " [1. 1.]\n",
            " [1. 1.]\n",
            " [1. 1.]\n",
            " [1. 1.]\n",
            " [0. 0.]\n",
            " [1. 1.]]\n"
          ]
        }
      ]
    },
    {
      "cell_type": "markdown",
      "source": [
        "# 8. Making confusion matrix\n",
        "Lets make a confusion matrix to analyze real status of loan and predicted status of loan."
      ],
      "metadata": {
        "id": "2geZpY3GKs1M"
      }
    },
    {
      "cell_type": "code",
      "source": [
        "from sklearn.metrics import confusion_matrix\n",
        "cm=confusion_matrix(y_test,y_pred)\n",
        "print(cm)"
      ],
      "metadata": {
        "colab": {
          "base_uri": "https://localhost:8080/"
        },
        "id": "dltfS0SFLBmF",
        "outputId": "24cb1406-dbec-4986-dd47-77fc29764ea5"
      },
      "execution_count": 284,
      "outputs": [
        {
          "output_type": "stream",
          "name": "stdout",
          "text": [
            "[[16 17]\n",
            " [ 3 87]]\n"
          ]
        }
      ]
    },
    {
      "cell_type": "markdown",
      "source": [
        "You can see that there are total of 103 correct predictions and 20 wrong predictions....Our model trains good."
      ],
      "metadata": {
        "id": "J5aJ7FwTLQA0"
      }
    }
  ]
}